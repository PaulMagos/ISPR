{
 "cells": [
  {
   "cell_type": "code",
   "execution_count": 1,
   "metadata": {},
   "outputs": [
    {
     "name": "stdout",
     "output_type": "stream",
     "text": [
      "Loading data from processed file\n",
      "['Balanced_500_True', 'Balanced_500_False', 'UnbalancedReal_500_True', 'UnbalancedReal_500_False', 'UnbalancedFake_500_True', 'UnbalancedFake_500_False']\n"
     ]
    }
   ],
   "source": [
    "import tensorflow as tf\n",
    "import keras as K\n",
    "import myutils \n",
    "import pickle\n",
    "import os\n",
    "%load_ext autoreload\n",
    "%reload_ext autoreload\n",
    "%autoreload 2 \n",
    "\n",
    "\n",
    "SubjectFlags = [True, False]\n",
    "MAX_TEXT_LENS = [500]\n",
    "embedding_size = 50\n",
    "\n",
    "\n",
    "INPUT_LEN = MAX_TEXT_LENS[0] + 100\n",
    "\n",
    "tokenizers_path = './tokenizers'\n",
    "our_path_LSTM = './ourModelsLSTM'\n",
    "keras_path = './ktModels'\n",
    "our_path = './ourModels'\n",
    "             \n",
    "\n",
    "ModelsNames = ['Balanced', 'UnbalancedReal', 'UnbalancedFake']\n",
    "ModelsNames = [name+'_'+str(MAX_TEXT_LEN)+'_'+str(subFlag) for name in ModelsNames for subFlag in SubjectFlags for MAX_TEXT_LEN in MAX_TEXT_LENS]\n",
    "\n",
    "TrainOurModels = {}\n",
    "TrainKerasModels = {}\n",
    "TrainLSTMModels = {}\n",
    "\n",
    "LoadOurModels = {}\n",
    "LoadKerasModels = {}\n",
    "LoadLSTMModels = {}\n",
    "\n",
    "for kind in ModelsNames:\n",
    "    TrainOurModels[kind] = False\n",
    "    TrainLSTMModels[kind] = False\n",
    "    TrainKerasModels[kind] = False\n",
    "    LoadOurModels[kind] = True\n",
    "    LoadKerasModels[kind] = True\n",
    "    LoadLSTMModels[kind] = True\n",
    "    if not os.path.exists(f'{our_path}/{kind}.h5'):\n",
    "        TrainOurModels[kind] = True    \n",
    "        LoadOurModels[kind] = False\n",
    "    if not os.path.exists(f'{our_path_LSTM}/{kind}.h5'):\n",
    "        TrainLSTMModels[kind] = True        \n",
    "        LoadLSTMModels[kind] = False\n",
    "    if not os.path.exists(f'{keras_path}/{kind}'):\n",
    "        TrainKerasModels[kind] = True\n",
    "        LoadLSTMModels[kind] = False\n",
    "\n",
    "    \n",
    "# Remove comment if want to train a model from scratch\n",
    "# TrainKerasModels['Balanced'] = False\n",
    "TrainLSTMModels['Balanced_500_True'] = False\n",
    "TrainLSTMModels['UnbalancedReal_500_True'] = False\n",
    "TrainLSTMModels['UnbalancedFake_500_True'] = False\n",
    "LoadKerasModels['Balanced_500_True'] = False\n",
    "LoadKerasModels['UnbalancedReal_500_True'] = False\n",
    "LoadKerasModels['UnbalancedFake_500_True'] = False\n",
    "\n",
    "\n",
    "allNews = myutils.initDF()\n",
    "\n",
    "print(ModelsNames)\n",
    "# tf.config.list_logical_devices()"
   ]
  },
  {
   "attachments": {},
   "cell_type": "markdown",
   "metadata": {},
   "source": [
    "\n",
    "## Create balanced dataset and create train, validation and test sets"
   ]
  },
  {
   "cell_type": "code",
   "execution_count": 2,
   "metadata": {},
   "outputs": [
    {
     "name": "stdout",
     "output_type": "stream",
     "text": [
      "Balanced_500_True \n",
      " 1    16440\n",
      "0    14989\n",
      "Name: label, dtype: int64\n",
      "Balanced_500_False \n",
      " 1    16440\n",
      "0    14989\n",
      "Name: label, dtype: int64\n"
     ]
    }
   ],
   "source": [
    "from sklearn.model_selection import train_test_split \n",
    "# Pop the label column\n",
    "balancedLabels = allNews.pop('label')\n",
    "\n",
    "x_train = {}\n",
    "y_train = {}\n",
    "x_test = {}\n",
    "x_val = {}\n",
    "\n",
    "\n",
    "for kind in ModelsNames:\n",
    "    if kind.startswith('Balanced'):\n",
    "        # Split dataset into train, validation and test (it's equal for val and test for each model, only the train is different)\n",
    "        x_train[kind], x_test[kind], y_train[kind], y_test = train_test_split(allNews.copy(), balancedLabels.copy(), test_size=0.1, train_size=0.9, shuffle=False)\n",
    "        x_train[kind], x_val[kind], y_train[kind], y_val = train_test_split(x_train[kind].copy(), y_train[kind].copy(), test_size=0.2222, train_size=0.7778, shuffle=False)\n",
    "        # Check how many samples of each kind we have in the training set\n",
    "        print(kind, '\\n', y_train[kind].value_counts())"
   ]
  },
  {
   "attachments": {},
   "cell_type": "markdown",
   "metadata": {},
   "source": [
    "## Create unbalanced dataset and create train, validation and test sets\n",
    "### Only half fake news"
   ]
  },
  {
   "cell_type": "code",
   "execution_count": 3,
   "metadata": {},
   "outputs": [
    {
     "name": "stdout",
     "output_type": "stream",
     "text": [
      "UnbalancedFake_500_True\n",
      " 0    14989\n",
      "1     8220\n",
      "Name: label, dtype: int64\n",
      "UnbalancedFake_500_False\n",
      " 0    14989\n",
      "1     8220\n",
      "Name: label, dtype: int64\n"
     ]
    }
   ],
   "source": [
    "# FakeNews label = 1\n",
    "for kind in ModelsNames:\n",
    "    typee = '_' + kind.split('_')[1] + '_' + kind.split('_')[2]\n",
    "    if kind.startswith('UnbalancedFake'):\n",
    "        x_train[kind], y_train[kind] = myutils.unbalance(x_train['Balanced'+typee].copy(), y_train['Balanced'+typee].copy(), 1, force=True)\n",
    "        x_val[kind] = x_val['Balanced'+typee].copy()\n",
    "        print(f\"{kind}\\n {y_train[kind].value_counts()}\")"
   ]
  },
  {
   "attachments": {},
   "cell_type": "markdown",
   "metadata": {},
   "source": [
    "### Only half real news"
   ]
  },
  {
   "cell_type": "code",
   "execution_count": 4,
   "metadata": {},
   "outputs": [
    {
     "name": "stdout",
     "output_type": "stream",
     "text": [
      "UnbalancedReal_500_True\n",
      " 1    16440\n",
      "0     7495\n",
      "Name: label, dtype: int64\n",
      "UnbalancedReal_500_False\n",
      " 1    16440\n",
      "0     7495\n",
      "Name: label, dtype: int64\n"
     ]
    }
   ],
   "source": [
    "# RealNews label = 0\n",
    "for kind in ModelsNames:\n",
    "    typee = '_' + kind.split('_')[1] + '_' + kind.split('_')[2]\n",
    "    if kind.startswith('UnbalancedReal'):\n",
    "        x_train[kind], y_train[kind] = myutils.unbalance(x_train['Balanced'+typee].copy(), y_train['Balanced'+typee].copy(), 0, force=True)\n",
    "        x_val[kind] = x_val['Balanced'+typee].copy()\n",
    "        print(f\"{kind}\\n {y_train[kind].value_counts()}\")"
   ]
  },
  {
   "attachments": {},
   "cell_type": "markdown",
   "metadata": {},
   "source": [
    "## Dict Index"
   ]
  },
  {
   "cell_type": "code",
   "execution_count": 5,
   "metadata": {},
   "outputs": [],
   "source": [
    "from keras.preprocessing.text import Tokenizer\n",
    "\n",
    "vectorizer = {}\n",
    "vocab_size = {}\n",
    "\n",
    "for kind in ModelsNames:\n",
    "    if os.path.exists(f'{tokenizers_path}/{kind}_vectorizer.pickle'):\n",
    "        with open(f'{tokenizers_path}/{kind}_vectorizer.pickle', 'rb') as handle:\n",
    "            vectorizer[kind] = pickle.load(handle)\n",
    "    else:\n",
    "        # Create a vectorizer for each dataset\n",
    "        vectorizer[kind] = Tokenizer(num_words=10000)\n",
    "        \n",
    "        # Fit the vectorizer to the data in each dataset8\n",
    "        vectorizer[kind].fit_on_texts(x_train[kind].title)\n",
    "        vectorizer[kind].fit_on_texts(x_train[kind].text)\n",
    "        vectorizer[kind].fit_on_texts(x_train[kind].subject)\n",
    "        \n",
    "        with open(f'{tokenizers_path}/{kind}_vectorizer.pickle', 'wb') as handle:\n",
    "            pickle.dump(vectorizer[kind], handle, protocol=pickle.HIGHEST_PROTOCOL)\n",
    "    \n",
    "    # Save the vocab size for each dataset\n",
    "    vocab_size[kind] = len(vectorizer[kind].word_index) + 2"
   ]
  },
  {
   "attachments": {},
   "cell_type": "markdown",
   "metadata": {},
   "source": [
    "### Text conversion"
   ]
  },
  {
   "cell_type": "code",
   "execution_count": 6,
   "metadata": {},
   "outputs": [],
   "source": [
    "\n",
    "from keras_preprocessing.sequence import pad_sequences\n",
    "\n",
    "def convert(df, kind, columns = ['title', 'text', 'subject']):\n",
    "    for column in columns:\n",
    "        df[column] = vectorizer[kind].texts_to_sequences(df[column])\n",
    "    return df\n",
    "\n",
    "# Convert the data in each dataset\n",
    "for kind in ModelsNames:\n",
    "    x_train[kind] = convert(x_train[kind].copy(), kind)\n",
    "    # Convert validation set\n",
    "    # Validation set is equal for all the tests\n",
    "    x_val[kind] = convert(x_val[kind].copy(), kind)"
   ]
  },
  {
   "cell_type": "code",
   "execution_count": 7,
   "metadata": {},
   "outputs": [
    {
     "name": "stdout",
     "output_type": "stream",
     "text": [
      "Balanced_500_True (31429, 4)\n",
      "Balanced_500_False (31429, 4)\n",
      "UnbalancedReal_500_True (23935, 4)\n",
      "UnbalancedReal_500_False (23935, 4)\n",
      "UnbalancedFake_500_True (23209, 4)\n",
      "UnbalancedFake_500_False (23209, 4)\n"
     ]
    }
   ],
   "source": [
    "for kind in ModelsNames:\n",
    "    \n",
    "    print(kind, x_train[kind].shape)"
   ]
  },
  {
   "attachments": {},
   "cell_type": "markdown",
   "metadata": {},
   "source": [
    "### Text Padding/Truncation for Normalization"
   ]
  },
  {
   "cell_type": "code",
   "execution_count": 8,
   "metadata": {},
   "outputs": [
    {
     "name": "stdout",
     "output_type": "stream",
     "text": [
      "\n",
      "\n",
      "Shape of data and label for Balanced_500_True without news argument training set: (31429, 602) (31429,)\n",
      "Shape of data and label for Balanced_500_True without news argument Validation set: (8979, 602) (8979,)\n",
      "\n",
      "\n",
      "Shape of data and label for Balanced_500_False with news argument training set: (31429, 600) (31429,)\n",
      "Shape of data and label for Balanced_500_False with news argument Validation set: (8979, 600) (8979,)\n",
      "\n",
      "\n",
      "Shape of data and label for UnbalancedReal_500_True without news argument training set: (23935, 602) (23935,)\n",
      "Shape of data and label for UnbalancedReal_500_True without news argument Validation set: (8979, 602) (8979,)\n",
      "\n",
      "\n",
      "Shape of data and label for UnbalancedReal_500_False with news argument training set: (23935, 600) (23935,)\n",
      "Shape of data and label for UnbalancedReal_500_False with news argument Validation set: (8979, 600) (8979,)\n",
      "\n",
      "\n",
      "Shape of data and label for UnbalancedFake_500_True without news argument training set: (23209, 602) (23209,)\n",
      "Shape of data and label for UnbalancedFake_500_True without news argument Validation set: (8979, 602) (8979,)\n",
      "\n",
      "\n",
      "Shape of data and label for UnbalancedFake_500_False with news argument training set: (23209, 600) (23209,)\n",
      "Shape of data and label for UnbalancedFake_500_False with news argument Validation set: (8979, 600) (8979,)\n"
     ]
    }
   ],
   "source": [
    "import numpy as np\n",
    "\n",
    "\n",
    "def Normalize(df, columns = ['title', 'text'], subject = True, MAX_LEN = MAX_TEXT_LENS[0], PaddingKind = 'post'):\n",
    "    tmp = {}    \n",
    "    for column in columns:\n",
    "        tmp[column] = pad_sequences(df[column].tolist(), maxlen=(MAX_LEN if column == 'text' else 100), padding=PaddingKind)\n",
    "    if subject:\n",
    "        tmp['subject'] = pad_sequences(df['subject'].tolist(), maxlen=2, padding=PaddingKind)\n",
    "    out = np.empty((len(tmp['text']), INPUT_LEN + (2 if subject else 0)))\n",
    "    for i in range(len(tmp['text'])):\n",
    "        if subject:\n",
    "            out[i] = np.append(np.append(tmp['text'][i], tmp['title'][i]), tmp['subject'][i])\n",
    "        else:\n",
    "            out[i] = np.append(tmp['text'][i], tmp['title'][i])\n",
    "    return out\n",
    "\n",
    "for kind in ModelsNames:\n",
    "    sub = True if kind.split('_')[2] == 'True' else False\n",
    "    # Read Training Data\n",
    "    x_train[kind] = Normalize(x_train[kind].copy(),  subject = sub)\n",
    "    # Convert to numpy arrays the labels for Balanced training dataset\n",
    "    y_train[kind] = np.array(y_train[kind].copy())\n",
    "    x_val[kind] = Normalize(x_val[kind].copy(), subject = sub)\n",
    "    \n",
    "# Convert to numpy arrays the labels for Validation set\n",
    "y_val = np.array(y_val)\n",
    "\n",
    "for kind in ModelsNames:\n",
    "    out = '' if kind.split('_')[2] != 'True' else 'out'\n",
    "    # Print shape of data and label for each Training Set\n",
    "    print('\\n')\n",
    "    print(f'Shape of data and label for {kind} with{out} news argument training set:', x_train[kind].shape, y_train[kind].shape)\n",
    "    print(f'Shape of data and label for {kind} with{out} news argument Validation set:', x_val[kind].shape, y_val.shape)\n",
    "    "
   ]
  },
  {
   "attachments": {},
   "cell_type": "markdown",
   "metadata": {},
   "source": [
    "## Embedding"
   ]
  },
  {
   "cell_type": "code",
   "execution_count": 9,
   "metadata": {},
   "outputs": [],
   "source": [
    "import numpy as np\n",
    "embedding_dict = {}\n",
    "with open(f\"./embeddings/glove.6B.{embedding_size}d.txt\") as f:\n",
    "    for line in f:\n",
    "        words, coefficients = line.split(maxsplit=1)\n",
    "        coefficients = np.fromstring(coefficients, \"f\", sep=\" \")\n",
    "        embedding_dict[words] = coefficients"
   ]
  },
  {
   "attachments": {},
   "cell_type": "markdown",
   "metadata": {},
   "source": [
    "### Embedding Matrix"
   ]
  },
  {
   "cell_type": "code",
   "execution_count": 10,
   "metadata": {},
   "outputs": [
    {
     "name": "stdout",
     "output_type": "stream",
     "text": [
      "Balanced_500_True (126648, 50)\n",
      "Balanced_500_False (126648, 50)\n",
      "UnbalancedReal_500_True (112862, 50)\n",
      "UnbalancedReal_500_False (112911, 50)\n",
      "UnbalancedFake_500_True (107083, 50)\n",
      "UnbalancedFake_500_False (107499, 50)\n"
     ]
    }
   ],
   "source": [
    "import numpy as np\n",
    "embedding_dim = embedding_size\n",
    "\n",
    "embedding_matrix = {}\n",
    "\n",
    "for kind in ModelsNames:\n",
    "    embedding_matrix[kind] = np.zeros((vocab_size[kind], embedding_dim))\n",
    "    for word, i in vectorizer[kind].word_index.items():\n",
    "        embedding_vector = vectorizer[kind].word_index.get(word)\n",
    "        if embedding_vector is not None:\n",
    "            embedding_matrix[kind][i] = embedding_vector\n",
    "    # Print all embedding matrix shapes\n",
    "    print(kind, embedding_matrix[kind].shape)"
   ]
  },
  {
   "attachments": {},
   "cell_type": "markdown",
   "metadata": {},
   "source": [
    "# Tensorflow embedding layer"
   ]
  },
  {
   "cell_type": "code",
   "execution_count": 11,
   "metadata": {},
   "outputs": [],
   "source": [
    "embedding_layer = {}\n",
    "for kind in ModelsNames:\n",
    "    sub = kind.split('_')[2] == 'True'\n",
    "    embedding_layer[kind] = K.layers.Embedding(vocab_size[kind], \n",
    "                                                                embedding_dim, \n",
    "                                                                embeddings_initializer= K.initializers.Constant(\n",
    "                                                                    embedding_matrix[kind]), \n",
    "                                                                trainable=False, \n",
    "                                                                input_length=INPUT_LEN + (2 if sub else 0))\n",
    "        \n",
    "GLOBAL_KIND = 'Balanced'\n",
    "def getEmbeddingLayer(kind):\n",
    "    return embedding_layer[kind]"
   ]
  },
  {
   "cell_type": "code",
   "execution_count": 12,
   "metadata": {},
   "outputs": [
    {
     "name": "stdout",
     "output_type": "stream",
     "text": [
      "Balanced_500_True (31429, 602) (31429,)\n",
      "Balanced_500_True (8979, 602) (8979,)\n",
      "Balanced_500_False (31429, 600) (31429,)\n",
      "Balanced_500_False (8979, 600) (8979,)\n",
      "UnbalancedReal_500_True (23935, 602) (23935,)\n",
      "UnbalancedReal_500_True (8979, 602) (8979,)\n",
      "UnbalancedReal_500_False (23935, 600) (23935,)\n",
      "UnbalancedReal_500_False (8979, 600) (8979,)\n",
      "UnbalancedFake_500_True (23209, 602) (23209,)\n",
      "UnbalancedFake_500_True (8979, 602) (8979,)\n",
      "UnbalancedFake_500_False (23209, 600) (23209,)\n",
      "UnbalancedFake_500_False (8979, 600) (8979,)\n"
     ]
    }
   ],
   "source": [
    "for kind in ModelsNames:\n",
    "    print(kind, x_train[kind].shape,  y_train[kind].shape)\n",
    "    print(kind, x_val[kind].shape, y_val.shape)"
   ]
  },
  {
   "attachments": {},
   "cell_type": "markdown",
   "metadata": {},
   "source": [
    "# Tensorflow CNN model"
   ]
  },
  {
   "cell_type": "code",
   "execution_count": 13,
   "metadata": {},
   "outputs": [
    {
     "name": "stdout",
     "output_type": "stream",
     "text": [
      "Loading Balanced_500_True model...:\n",
      "Metal device set to: Apple M1 Pro\n",
      "\n",
      "systemMemory: 32.00 GB\n",
      "maxCacheSize: 10.67 GB\n",
      "\n",
      " Balanced_500_True our parameters model loaded\n",
      " Balanced_500_True our parameters model history loaded\n",
      "Loading Balanced_500_False model...:\n",
      " Balanced_500_False our parameters model loaded\n",
      " Balanced_500_False our parameters model history loaded\n",
      "Loading UnbalancedReal_500_True model...:\n",
      " UnbalancedReal_500_True our parameters model loaded\n",
      " UnbalancedReal_500_True our parameters model history loaded\n",
      "Loading UnbalancedReal_500_False model...:\n",
      " UnbalancedReal_500_False our parameters model loaded\n",
      " UnbalancedReal_500_False our parameters model history loaded\n",
      "Loading UnbalancedFake_500_True model...:\n",
      " UnbalancedFake_500_True our parameters model loaded\n",
      " UnbalancedFake_500_True our parameters model history loaded\n",
      "Loading UnbalancedFake_500_False model...:\n",
      " UnbalancedFake_500_False our parameters model loaded\n",
      " UnbalancedFake_500_False our parameters model history loaded\n"
     ]
    }
   ],
   "source": [
    "import visualkeras\n",
    "\n",
    "ourParamModels = {}\n",
    "ourmodel_hist = {}\n",
    "\n",
    "for kind in ModelsNames:\n",
    "    if TrainOurModels[kind]:    \n",
    "        ourParamModels[kind] = K.Sequential()\n",
    "        ourParamModels[kind].add(embedding_layer[kind])\n",
    "        ourParamModels[kind].add(K.layers.Conv1D(128, 4, padding='same', activation='relu'))\n",
    "        ourParamModels[kind].add(K.layers.MaxPooling1D(2))\n",
    "        ourParamModels[kind].add(K.layers.Conv1D(64, 4, padding='same', activation='relu'))\n",
    "        ourParamModels[kind].add(K.layers.MaxPooling1D(2))\n",
    "        ourParamModels[kind].add(K.layers.Conv1D(32, 4, padding='same', activation='relu'))\n",
    "        ourParamModels[kind].add(K.layers.MaxPooling1D(2))\n",
    "        ourParamModels[kind].add(K.layers.Flatten())\n",
    "        ourParamModels[kind].add(K.layers.Dense(256, activation='relu'))\n",
    "        ourParamModels[kind].add(K.layers.Dense(1, activation='sigmoid'))\n",
    "        \n",
    "        ourParamModels[kind].compile(\n",
    "                optimizer=tf.keras.optimizers.legacy.Adam(learning_rate = 0.001), \n",
    "                loss=K.losses.BinaryCrossentropy(),\n",
    "                metrics=[\"accuracy\"]\n",
    "                )\n",
    "        \n",
    "        visualkeras.layered_view(ourParamModels[kind], scale_xy=0.8, draw_volume=True, legend=True, to_file=f'{our_path}/images/{kind}.png')\n",
    "        print(f'Training {kind} model...')\n",
    "        ourmodel_hist[kind] = ourParamModels[kind].fit(x_train[kind], y_train[kind], batch_size=128, \n",
    "                                epochs=15, validation_data=(x_val[kind], y_val), callbacks=[tf.keras.callbacks.EarlyStopping(monitor='val_loss',\n",
    "                                                                                                mode='min',\n",
    "                                                                                                patience=3,\n",
    "                                                                                                min_delta=0.003,\n",
    "                                                                                                restore_best_weights=True)])\n",
    "        ourmodel_hist[kind] = ourmodel_hist[kind].history\n",
    "        ourParamModels[kind].save(f'{our_path}/{kind}.h5')\n",
    "        with open(f'{our_path}/histories/{kind}_hist.hist', 'wb') as file_pi:\n",
    "            pickle.dump(ourmodel_hist[kind], file_pi)\n",
    "    else:\n",
    "        if LoadOurModels[kind]:\n",
    "            print(f'Loading {kind} model...:')\n",
    "            if os.path.exists(f'{our_path}/{kind}.h5'):\n",
    "                ourParamModels[kind] = tf.keras.models.load_model(f'{our_path}/{kind}.h5')\n",
    "                print(f' {kind} our parameters model loaded')\n",
    "                if os.path.exists(f'{our_path}/histories/{kind}_hist.hist'):\n",
    "                    with open(f'{our_path}/histories/{kind}_hist.hist', 'rb') as file_pi:\n",
    "                        ourmodel_hist[kind] = pickle.load(file_pi)\n",
    "                    print(f' {kind} our parameters model history loaded')\n",
    "            else:\n",
    "                print(f' {kind} our parameters model NOT found')\n",
    "        else:\n",
    "            print(f'Not loading {kind} our parameters model as per settings')"
   ]
  },
  {
   "attachments": {},
   "cell_type": "markdown",
   "metadata": {},
   "source": [
    "![Alt text](ourModels/images/UnbalancedFake_500_True.png)"
   ]
  },
  {
   "attachments": {},
   "cell_type": "markdown",
   "metadata": {},
   "source": [
    "# Keras Tuner for Hyperparameter Tuning (Optional)"
   ]
  },
  {
   "cell_type": "code",
   "execution_count": 18,
   "metadata": {},
   "outputs": [
    {
     "name": "stdout",
     "output_type": "stream",
     "text": [
      "Finding best hyperparameters for  Balanced_500_True\n",
      "INFO:tensorflow:Reloading Tuner from ./ktModels/Balanced_500_True/Balanced_500_True_CNN/tuner0.json\n",
      "INFO:tensorflow:Oracle triggered exit\n",
      "Balanced_500_True {'conv_1_filters': 32, 'conv_1_kernel': 4, 'conv_1_strides': 2, 'conv_2_filters': 64, 'conv_2_kernel': 4, 'conv_2_strides': 2, 'conv_3_filters': 32, 'conv_3_kernel': 4, 'conv_3_strides': 2, 'dense_1_units': 256, 'learning_rate': 0.001, 'batch_size': 128}\n",
      "Not loading Balanced_500_True keras model as per settings\n",
      "Finding best hyperparameters for  Balanced_500_False\n",
      "INFO:tensorflow:Reloading Tuner from ./ktModels/Balanced_500_False/Balanced_500_False_CNN/tuner0.json\n",
      "INFO:tensorflow:Oracle triggered exit\n",
      "Balanced_500_False {'conv_1_filters': 128, 'conv_1_kernel': 4, 'conv_1_strides': 2, 'conv_2_filters': 64, 'conv_2_kernel': 4, 'conv_2_strides': 2, 'conv_3_filters': 32, 'conv_3_kernel': 4, 'conv_3_strides': 2, 'dense_1_units': 256, 'learning_rate': 0.001, 'batch_size': 128}\n",
      "Loading Balanced_500_False keras model...:\n",
      " Balanced_500_False keras model loaded\n",
      " Balanced_500_False keras model history loaded\n",
      "Finding best hyperparameters for  UnbalancedReal_500_True\n",
      "INFO:tensorflow:Reloading Tuner from ./ktModels/UnbalancedReal_500_True/UnbalancedReal_500_True_CNN/tuner0.json\n",
      "INFO:tensorflow:Oracle triggered exit\n",
      "UnbalancedReal_500_True {'conv_1_filters': 32, 'conv_1_kernel': 4, 'conv_1_strides': 2, 'conv_2_filters': 64, 'conv_2_kernel': 4, 'conv_2_strides': 2, 'conv_3_filters': 32, 'conv_3_kernel': 4, 'conv_3_strides': 2, 'dense_1_units': 256, 'learning_rate': 0.001, 'batch_size': 128}\n",
      "Not loading UnbalancedReal_500_True keras model as per settings\n",
      "Finding best hyperparameters for  UnbalancedReal_500_False\n",
      "INFO:tensorflow:Reloading Tuner from ./ktModels/UnbalancedReal_500_False/UnbalancedReal_500_False_CNN/tuner0.json\n",
      "INFO:tensorflow:Oracle triggered exit\n",
      "UnbalancedReal_500_False {'conv_1_filters': 32, 'conv_1_kernel': 4, 'conv_1_strides': 2, 'conv_2_filters': 64, 'conv_2_kernel': 4, 'conv_2_strides': 2, 'conv_3_filters': 32, 'conv_3_kernel': 4, 'conv_3_strides': 2, 'dense_1_units': 256, 'learning_rate': 0.001, 'batch_size': 128}\n",
      "Loading UnbalancedReal_500_False keras model...:\n",
      " UnbalancedReal_500_False keras model loaded\n",
      " UnbalancedReal_500_False keras model history loaded\n",
      "Finding best hyperparameters for  UnbalancedFake_500_True\n",
      "INFO:tensorflow:Reloading Tuner from ./ktModels/UnbalancedFake_500_True/UnbalancedFake_500_True_CNN/tuner0.json\n",
      "INFO:tensorflow:Oracle triggered exit\n",
      "UnbalancedFake_500_True {'conv_1_filters': 32, 'conv_1_kernel': 4, 'conv_1_strides': 2, 'conv_2_filters': 64, 'conv_2_kernel': 4, 'conv_2_strides': 2, 'conv_3_filters': 32, 'conv_3_kernel': 4, 'conv_3_strides': 2, 'dense_1_units': 256, 'learning_rate': 0.001, 'batch_size': 128}\n",
      "Not loading UnbalancedFake_500_True keras model as per settings\n",
      "Finding best hyperparameters for  UnbalancedFake_500_False\n",
      "INFO:tensorflow:Reloading Tuner from ./ktModels/UnbalancedFake_500_False/UnbalancedFake_500_False_CNN/tuner0.json\n",
      "INFO:tensorflow:Oracle triggered exit\n",
      "UnbalancedFake_500_False {'conv_1_filters': 32, 'conv_1_kernel': 4, 'conv_1_strides': 2, 'conv_2_filters': 64, 'conv_2_kernel': 4, 'conv_2_strides': 2, 'conv_3_filters': 32, 'conv_3_kernel': 4, 'conv_3_strides': 2, 'dense_1_units': 256, 'learning_rate': 0.001, 'batch_size': 128}\n",
      "Loading UnbalancedFake_500_False keras model...:\n",
      " UnbalancedFake_500_False keras model loaded\n",
      " UnbalancedFake_500_False keras model history loaded\n"
     ]
    }
   ],
   "source": [
    "import keras_tuner\n",
    "kerasmodels = {}\n",
    "kerasmodel_hist = {}\n",
    "\n",
    "Strides = [1, 2]\n",
    "Kernels = [3, 4, 5]\n",
    "Units = [128, 256]\n",
    "\n",
    "Filters = {}\n",
    "Filters[0] = [32, 64, 128]\n",
    "Filters[1] = [32, 64, 128]\n",
    "Filters[2] = [32, 64, 128]\n",
    "\n",
    "BatchSizes = [64, 128, 256, 512]\n",
    "LearningRates = [1e-2, 1e-3, 1e-4, 1e-5]\n",
    "\n",
    "class MyHyperModel(keras_tuner.HyperModel):\n",
    "    def build(self, hp):\n",
    "        \n",
    "        kerasmodel = K.Sequential()\n",
    "        # Embedding Layer\n",
    "        kerasmodel.add(getEmbeddingLayer(GLOBAL_KIND))\n",
    "        # First Convolutional Layer\n",
    "        kerasmodel.add(K.layers.Conv1D(hp.Choice('conv_1_filters', Filters[0]), \n",
    "                                hp.Choice('conv_1_kernel', Kernels), \n",
    "                                padding='same', activation='relu'))\n",
    "        kerasmodel.add(K.layers.MaxPooling1D(hp.Choice('conv_1_strides', Strides)))\n",
    "        # Second Convolutional Layer\n",
    "        kerasmodel.add(K.layers.Conv1D(hp.Choice('conv_2_filters', Filters[1]), \n",
    "                                hp.Choice('conv_2_kernel', Kernels), \n",
    "                                padding='same', activation='relu'))\n",
    "        kerasmodel.add(K.layers.MaxPooling1D(hp.Choice('conv_2_strides', Strides)))\n",
    "        # Third Convolutional Layer\n",
    "        kerasmodel.add(K.layers.Conv1D(hp.Choice('conv_3_filters', Filters[2]), \n",
    "                                hp.Choice('conv_3_kernel', Kernels), \n",
    "                                padding='same', activation='relu'))\n",
    "        kerasmodel.add(K.layers.MaxPooling1D(hp.Choice('conv_3_strides', Strides)))\n",
    "        # Flatten Layer\n",
    "        kerasmodel.add(K.layers.Flatten())\n",
    "        # Dense Layer\n",
    "        kerasmodel.add(K.layers.Dense(hp.Choice('dense_1_units', Units), activation='relu'))\n",
    "        # Classification Layer\n",
    "        kerasmodel.add(K.layers.Dense(1, activation='sigmoid'))\n",
    "        \n",
    "        kerasmodel.compile(\n",
    "                optimizer=tf.keras.optimizers.legacy.Adam(\n",
    "                    learning_rate = hp.Choice('learning_rate', LearningRates)\n",
    "                ), \n",
    "                loss=K.losses.BinaryCrossentropy(),\n",
    "                metrics=[\"accuracy\"]\n",
    "                )\n",
    "        return kerasmodel\n",
    "\n",
    "\n",
    "    def fit(self, hp, model, *args, **kwargs):\n",
    "        return model.fit(\n",
    "            *args,\n",
    "            **kwargs,\n",
    "            shuffle=True,\n",
    "            epochs=15,\n",
    "            batch_size=hp.Choice(\"batch_size\",  BatchSizes),\n",
    "            verbose=1,\n",
    "            workers=-1,\n",
    "            use_multiprocessing=True\n",
    "            )\n",
    "\n",
    "tuner = {}\n",
    "for kind in ModelsNames:  \n",
    "    # Finding best hyperparameters for each model\n",
    "    print(\"Finding best hyperparameters for \", kind)\n",
    "    GLOBAL_KIND = kind\n",
    "    tuner[kind] = keras_tuner.GridSearch(\n",
    "        MyHyperModel(),\n",
    "        objective=\"val_accuracy\",\n",
    "        overwrite=TrainKerasModels[kind],\n",
    "        directory=f\"{keras_path}/{kind}\",\n",
    "        project_name=f\"{kind}_CNN\",\n",
    "    )\n",
    "\n",
    "    # if TrainModels[kind]:\n",
    "    tuner[kind].search(x_train[kind], y_train[kind], \n",
    "                    validation_data=(x_val[kind], y_val), callbacks=[tf.keras.callbacks.EarlyStopping(monitor='val_loss',\n",
    "                            mode='min',\n",
    "                            patience=3,\n",
    "                            min_delta=0.05,\n",
    "                            restore_best_weights=True)])\n",
    "    print(kind, tuner[kind].get_best_hyperparameters()[0].values)\n",
    "    kerasmodels[kind] = tuner[kind].hypermodel.build(tuner[kind].get_best_hyperparameters()[0])\n",
    "    if TrainKerasModels[kind]:\n",
    "        kerasmodel_hist[kind] = kerasmodels[kind].fit(x_train[kind], y_train[kind], batch_size=128, \n",
    "                                    epochs=15, validation_data=(x_val[kind], y_val), callbacks=[tf.keras.callbacks.EarlyStopping(monitor='val_loss',\n",
    "        mode='min',\n",
    "        patience=3,\n",
    "        min_delta=0.05,\n",
    "        restore_best_weights=True)])\n",
    "        kerasmodel_hist[kind] = kerasmodel_hist[kind].history\n",
    "        kerasmodels[kind].save(f'{keras_path}/{kind}.h5')\n",
    "        with open(f'{keras_path}/histories/{kind}_hist.hist', 'wb') as file_pi:\n",
    "            pickle.dump(kerasmodel_hist[kind], file_pi)\n",
    "    else:\n",
    "        if LoadKerasModels[kind]:\n",
    "            print(f'Loading {kind} keras model...:')\n",
    "            if os.path.exists(f'{keras_path}/{kind}.h5'):\n",
    "                kerasmodels[kind] = tf.keras.models.load_model(f'{keras_path}/{kind}.h5')\n",
    "                print(f' {kind} keras model loaded')\n",
    "                if os.path.exists(f'{keras_path}/histories/{kind}_hist.hist'):\n",
    "                    with open(f'{keras_path}/histories/{kind}_hist.hist', 'rb') as file_pi:\n",
    "                        kerasmodel_hist[kind] = pickle.load(file_pi)\n",
    "                    print(f' {kind} keras model history loaded')\n",
    "            else:\n",
    "                print(f' {kind} keras model NOT found')\n",
    "        else:\n",
    "            kerasmodels.pop(kind)\n",
    "            print(f'Not loading {kind} keras model as per settings')"
   ]
  },
  {
   "attachments": {},
   "cell_type": "markdown",
   "metadata": {},
   "source": [
    "# Let's try LSTM\n"
   ]
  },
  {
   "cell_type": "code",
   "execution_count": 15,
   "metadata": {},
   "outputs": [
    {
     "name": "stdout",
     "output_type": "stream",
     "text": [
      "Not loading Balanced_500_True LSTM model as per settings\n",
      "Loading Balanced_500_False LSTM model...:\n",
      " Balanced_500_False LSTM model loaded\n",
      " Balanced_500_False LSTM model history loaded\n",
      "Not loading UnbalancedReal_500_True LSTM model as per settings\n",
      "Loading UnbalancedReal_500_False LSTM model...:\n",
      " UnbalancedReal_500_False LSTM model loaded\n",
      " UnbalancedReal_500_False LSTM model history loaded\n",
      "Not loading UnbalancedFake_500_True LSTM model as per settings\n",
      "Loading UnbalancedFake_500_False LSTM model...:\n",
      " UnbalancedFake_500_False LSTM model loaded\n",
      " UnbalancedFake_500_False LSTM model history loaded\n"
     ]
    }
   ],
   "source": [
    "import sys\n",
    "ourParamLSTMModels = {}\n",
    "ourLSTMModel_hist = {}\n",
    "\n",
    "for kind in ModelsNames:\n",
    "    if TrainLSTMModels[kind]:    \n",
    "        ourParamLSTMModels[kind] = K.Sequential()\n",
    "        ourParamLSTMModels[kind].add(embedding_layer[kind])\n",
    "        ourParamLSTMModels[kind].add(K.layers.Bidirectional(tf.keras.layers.LSTM(128,  return_sequences=True)))\n",
    "        ourParamLSTMModels[kind].add(K.layers.Bidirectional(tf.keras.layers.LSTM(64,  return_sequences=True)))\n",
    "        ourParamLSTMModels[kind].add(K.layers.Bidirectional(tf.keras.layers.LSTM(32)))\n",
    "        ourParamLSTMModels[kind].add(K.layers.Dense(64, activation='relu'))\n",
    "        ourParamLSTMModels[kind].add(K.layers.Dropout(0.5))\n",
    "        ourParamLSTMModels[kind].add(K.layers.Dense(1, activation='sigmoid'))\n",
    "        \n",
    "        ourParamLSTMModels[kind].compile(\n",
    "                optimizer=tf.keras.optimizers.legacy.Adam(learning_rate = 0.001), \n",
    "                loss=K.losses.BinaryCrossentropy(),\n",
    "                metrics=[\"accuracy\"]\n",
    "                )\n",
    "        \n",
    "        print(f'Training {kind} model...')\n",
    "        ourLSTMModel_hist[kind] = ourParamLSTMModels[kind].fit(x_train[kind], y_train[kind], batch_size=128, \n",
    "                                epochs=15, validation_data=(x_val[kind], y_val), callbacks=[tf.keras.callbacks.EarlyStopping(monitor='val_loss',\n",
    "                                                                                                mode='min',\n",
    "                                                                                                patience=3,\n",
    "                                                                                                min_delta=0.003,\n",
    "                                                                                                restore_best_weights=True)])\n",
    "        ourParamLSTMModels[kind] = ourParamLSTMModels[kind].history\n",
    "        ourParamLSTMModels[kind].save(f'{our_path_LSTM}/{kind}.h5')\n",
    "        visualkeras.layered_view(ourParamLSTMModels[kind], scale_xy=0.8, draw_volume=True, legend=True, to_file=f'{our_path_LSTM}/images/{kind}.png')\n",
    "        with open(f'{our_path_LSTM}/histories/{kind}_hist.hist', 'wb') as file_pi:\n",
    "            pickle.dump(ourmodel_hist[kind], file_pi)\n",
    "    else:\n",
    "        if LoadLSTMModels[kind]:\n",
    "            print(f'Loading {kind} LSTM model...:')\n",
    "            if os.path.exists(f'{our_path_LSTM}/{kind}.h5'):\n",
    "                ourParamLSTMModels[kind] = tf.keras.models.load_model(f'{our_path_LSTM}/{kind}.h5')\n",
    "                print(f' {kind} LSTM model loaded')\n",
    "                if os.path.exists(f'{our_path_LSTM}/histories/{kind}_hist.hist'):\n",
    "                    with open(f'{our_path_LSTM}/histories/{kind}_hist.hist', 'rb') as file_pi:\n",
    "                        ourLSTMModel_hist[kind] = pickle.load(file_pi)\n",
    "                    print(f' {kind} LSTM model history loaded')\n",
    "            else:\n",
    "                print(f' {kind} LSTM model NOT found')\n",
    "        else:\n",
    "            print(f'Not loading {kind} LSTM model as per settings')"
   ]
  },
  {
   "cell_type": "code",
   "execution_count": 49,
   "metadata": {},
   "outputs": [
    {
     "name": "stdout",
     "output_type": "stream",
     "text": [
      "4\n"
     ]
    },
    {
     "ename": "IndexError",
     "evalue": "index 4 is out of bounds for axis 0 with size 4",
     "output_type": "error",
     "traceback": [
      "\u001b[0;31m---------------------------------------------------------------------------\u001b[0m",
      "\u001b[0;31mIndexError\u001b[0m                                Traceback (most recent call last)",
      "Cell \u001b[0;32mIn[49], line 15\u001b[0m\n\u001b[1;32m     12\u001b[0m \u001b[39mfor\u001b[39;00m j, kind \u001b[39min\u001b[39;00m \u001b[39menumerate\u001b[39m(NN\u001b[39m.\u001b[39mkeys()):    \n\u001b[1;32m     13\u001b[0m     \u001b[39mif\u001b[39;00m kind \u001b[39min\u001b[39;00m NN:\n\u001b[1;32m     14\u001b[0m         \u001b[39m# Plot the accuracy and val_accuracy\u001b[39;00m\n\u001b[0;32m---> 15\u001b[0m         ax[i, j\u001b[39m%\u001b[39;49m\u001b[39m3\u001b[39;49m]\u001b[39m.\u001b[39mplot(NN[kind][\u001b[39m'\u001b[39m\u001b[39maccuracy\u001b[39m\u001b[39m'\u001b[39m], label\u001b[39m=\u001b[39mkind \u001b[39m+\u001b[39m \u001b[39m'\u001b[39m\u001b[39m accuracy\u001b[39m\u001b[39m'\u001b[39m)\n\u001b[1;32m     16\u001b[0m         ax[i, j\u001b[39m%\u001b[39m\u001b[39m3\u001b[39m]\u001b[39m.\u001b[39mplot(NN[kind][\u001b[39m'\u001b[39m\u001b[39mval_accuracy\u001b[39m\u001b[39m'\u001b[39m], label \u001b[39m=\u001b[39m kind \u001b[39m+\u001b[39m \u001b[39m'\u001b[39m\u001b[39m val_accuracy\u001b[39m\u001b[39m'\u001b[39m)\n\u001b[1;32m     17\u001b[0m         \u001b[39m# Increment i axis if j reached a multiple of 3\u001b[39;00m\n",
      "\u001b[0;31mIndexError\u001b[0m: index 4 is out of bounds for axis 0 with size 4"
     ]
    },
    {
     "data": {
      "image/png": "[encoded data removed]",
      "text/plain": [
       "<Figure size 2100x900 with 12 Axes>"
      ]
     },
     "metadata": {},
     "output_type": "display_data"
    }
   ],
   "source": [
    "import matplotlib.pyplot as plt\n",
    "\n",
    "plotstodo = int((len(ourParamLSTMModels.keys()) + len(kerasmodels.keys()) + len(ourParamModels.keys())) / 3)\n",
    "print(plotstodo)\n",
    "\n",
    "\n",
    "# Plot a big image to compare the training history of each model, by enanching the best performing one for each kind\n",
    "fig, ax = plt.subplots(4, 3, figsize=(21, 9))\n",
    "# ax[0].set_title('Training history')\n",
    "i = 0\n",
    "for NN in [ourmodel_hist, kerasmodel_hist, ourLSTMModel_hist]:\n",
    "    i = 0\n",
    "    for j, kind in enumerate(NN.keys()):    \n",
    "        if kind in NN:\n",
    "            # Plot the accuracy and val_accuracy\n",
    "            ax[i, j%3].plot(NN[kind]['accuracy'], label=kind + ' accuracy')\n",
    "            ax[i, j%3].plot(NN[kind]['val_accuracy'], label = kind + ' val_accuracy')\n",
    "            # Increment i axis if j reached a multiple of 3\n",
    "            i += 1 if j%3 == 0 else 0"
   ]
  },
  {
   "cell_type": "code",
   "execution_count": 17,
   "metadata": {},
   "outputs": [
    {
     "name": "stdout",
     "output_type": "stream",
     "text": [
      "Our Param:  Balanced_500_True\n",
      " 13/983 [..............................] - ETA: 4s  "
     ]
    },
    {
     "name": "stderr",
     "output_type": "stream",
     "text": [
      "2023-05-04 10:13:37.030246: W tensorflow/tsl/platform/profile_utils/cpu_utils.cc:128] Failed to get CPU frequency: 0 Hz\n"
     ]
    },
    {
     "name": "stdout",
     "output_type": "stream",
     "text": [
      "983/983 [==============================] - 7s 7ms/step\n",
      "Our Param: Accuracy train set  Balanced_500_True 0.9212192561010532\n",
      "281/281 [==============================] - 2s 7ms/step\n",
      "Our Param: Accuracy validation set  Balanced_500_True 0.91324200913242\n",
      "\n",
      "\n",
      "Our Param:  Balanced_500_False\n",
      "983/983 [==============================] - 93s 94ms/step\n",
      "Our Param: Accuracy train set  Balanced_500_False 0.9515415698876833\n",
      "281/281 [==============================] - 27s 95ms/step\n",
      "Our Param: Accuracy validation set  Balanced_500_False 0.9469874150796302\n",
      "\n",
      "\n",
      "Our Param:  UnbalancedReal_500_True\n",
      "748/748 [==============================] - 5s 7ms/step\n",
      "Our Param: Accuracy train set  UnbalancedReal_500_True 1.0\n",
      "281/281 [==============================] - 2s 6ms/step\n",
      "Our Param: Accuracy validation set  UnbalancedReal_500_True 1.0\n",
      "\n",
      "\n",
      "Our Param:  UnbalancedReal_500_False\n",
      " 59/748 [=>............................] - ETA: 1:04"
     ]
    },
    {
     "ename": "KeyboardInterrupt",
     "evalue": "",
     "output_type": "error",
     "traceback": [
      "\u001b[0;31m---------------------------------------------------------------------------\u001b[0m",
      "\u001b[0;31mKeyboardInterrupt\u001b[0m                         Traceback (most recent call last)",
      "Cell \u001b[0;32mIn[17], line 5\u001b[0m\n\u001b[1;32m      2\u001b[0m \u001b[39mfor\u001b[39;00m kind \u001b[39min\u001b[39;00m ModelsNames:\n\u001b[1;32m      3\u001b[0m     \u001b[39m# Model \u001b[39;00m\n\u001b[1;32m      4\u001b[0m     \u001b[39mprint\u001b[39m(\u001b[39m'\u001b[39m\u001b[39mOur Param: \u001b[39m\u001b[39m'\u001b[39m, kind)\n\u001b[0;32m----> 5\u001b[0m     \u001b[39mprint\u001b[39m(\u001b[39m'\u001b[39m\u001b[39mOur Param: Accuracy train set \u001b[39m\u001b[39m'\u001b[39m, kind, metrics\u001b[39m.\u001b[39maccuracy_score(y_train[kind], ourParamModels[kind]\u001b[39m.\u001b[39;49mpredict(x_train[kind]) \u001b[39m>\u001b[39m\u001b[39m=\u001b[39m \u001b[39m0.5\u001b[39m ))\n\u001b[1;32m      6\u001b[0m     \u001b[39mprint\u001b[39m(\u001b[39m'\u001b[39m\u001b[39mOur Param: Accuracy validation set \u001b[39m\u001b[39m'\u001b[39m, kind, metrics\u001b[39m.\u001b[39maccuracy_score(y_val, ourParamModels[kind]\u001b[39m.\u001b[39mpredict(x_val[kind]) \u001b[39m>\u001b[39m\u001b[39m=\u001b[39m \u001b[39m0.5\u001b[39m ))\n\u001b[1;32m      7\u001b[0m     \u001b[39mprint\u001b[39m(\u001b[39m'\u001b[39m\u001b[39m\\n\u001b[39;00m\u001b[39m'\u001b[39m)\n",
      "File \u001b[0;32m~/miniconda3/envs/ISPR/lib/python3.10/site-packages/keras/utils/traceback_utils.py:65\u001b[0m, in \u001b[0;36mfilter_traceback.<locals>.error_handler\u001b[0;34m(*args, **kwargs)\u001b[0m\n\u001b[1;32m     63\u001b[0m filtered_tb \u001b[39m=\u001b[39m \u001b[39mNone\u001b[39;00m\n\u001b[1;32m     64\u001b[0m \u001b[39mtry\u001b[39;00m:\n\u001b[0;32m---> 65\u001b[0m     \u001b[39mreturn\u001b[39;00m fn(\u001b[39m*\u001b[39;49margs, \u001b[39m*\u001b[39;49m\u001b[39m*\u001b[39;49mkwargs)\n\u001b[1;32m     66\u001b[0m \u001b[39mexcept\u001b[39;00m \u001b[39mException\u001b[39;00m \u001b[39mas\u001b[39;00m e:\n\u001b[1;32m     67\u001b[0m     filtered_tb \u001b[39m=\u001b[39m _process_traceback_frames(e\u001b[39m.\u001b[39m__traceback__)\n",
      "File \u001b[0;32m~/miniconda3/envs/ISPR/lib/python3.10/site-packages/keras/engine/training.py:2382\u001b[0m, in \u001b[0;36mModel.predict\u001b[0;34m(self, x, batch_size, verbose, steps, callbacks, max_queue_size, workers, use_multiprocessing)\u001b[0m\n\u001b[1;32m   2380\u001b[0m \u001b[39mfor\u001b[39;00m step \u001b[39min\u001b[39;00m data_handler\u001b[39m.\u001b[39msteps():\n\u001b[1;32m   2381\u001b[0m     callbacks\u001b[39m.\u001b[39mon_predict_batch_begin(step)\n\u001b[0;32m-> 2382\u001b[0m     tmp_batch_outputs \u001b[39m=\u001b[39m \u001b[39mself\u001b[39;49m\u001b[39m.\u001b[39;49mpredict_function(iterator)\n\u001b[1;32m   2383\u001b[0m     \u001b[39mif\u001b[39;00m data_handler\u001b[39m.\u001b[39mshould_sync:\n\u001b[1;32m   2384\u001b[0m         context\u001b[39m.\u001b[39masync_wait()\n",
      "File \u001b[0;32m~/miniconda3/envs/ISPR/lib/python3.10/site-packages/tensorflow/python/util/traceback_utils.py:150\u001b[0m, in \u001b[0;36mfilter_traceback.<locals>.error_handler\u001b[0;34m(*args, **kwargs)\u001b[0m\n\u001b[1;32m    148\u001b[0m filtered_tb \u001b[39m=\u001b[39m \u001b[39mNone\u001b[39;00m\n\u001b[1;32m    149\u001b[0m \u001b[39mtry\u001b[39;00m:\n\u001b[0;32m--> 150\u001b[0m   \u001b[39mreturn\u001b[39;00m fn(\u001b[39m*\u001b[39;49margs, \u001b[39m*\u001b[39;49m\u001b[39m*\u001b[39;49mkwargs)\n\u001b[1;32m    151\u001b[0m \u001b[39mexcept\u001b[39;00m \u001b[39mException\u001b[39;00m \u001b[39mas\u001b[39;00m e:\n\u001b[1;32m    152\u001b[0m   filtered_tb \u001b[39m=\u001b[39m _process_traceback_frames(e\u001b[39m.\u001b[39m__traceback__)\n",
      "File \u001b[0;32m~/miniconda3/envs/ISPR/lib/python3.10/site-packages/tensorflow/python/eager/polymorphic_function/polymorphic_function.py:894\u001b[0m, in \u001b[0;36mFunction.__call__\u001b[0;34m(self, *args, **kwds)\u001b[0m\n\u001b[1;32m    891\u001b[0m compiler \u001b[39m=\u001b[39m \u001b[39m\"\u001b[39m\u001b[39mxla\u001b[39m\u001b[39m\"\u001b[39m \u001b[39mif\u001b[39;00m \u001b[39mself\u001b[39m\u001b[39m.\u001b[39m_jit_compile \u001b[39melse\u001b[39;00m \u001b[39m\"\u001b[39m\u001b[39mnonXla\u001b[39m\u001b[39m\"\u001b[39m\n\u001b[1;32m    893\u001b[0m \u001b[39mwith\u001b[39;00m OptionalXlaContext(\u001b[39mself\u001b[39m\u001b[39m.\u001b[39m_jit_compile):\n\u001b[0;32m--> 894\u001b[0m   result \u001b[39m=\u001b[39m \u001b[39mself\u001b[39;49m\u001b[39m.\u001b[39;49m_call(\u001b[39m*\u001b[39;49margs, \u001b[39m*\u001b[39;49m\u001b[39m*\u001b[39;49mkwds)\n\u001b[1;32m    896\u001b[0m new_tracing_count \u001b[39m=\u001b[39m \u001b[39mself\u001b[39m\u001b[39m.\u001b[39mexperimental_get_tracing_count()\n\u001b[1;32m    897\u001b[0m without_tracing \u001b[39m=\u001b[39m (tracing_count \u001b[39m==\u001b[39m new_tracing_count)\n",
      "File \u001b[0;32m~/miniconda3/envs/ISPR/lib/python3.10/site-packages/tensorflow/python/eager/polymorphic_function/polymorphic_function.py:933\u001b[0m, in \u001b[0;36mFunction._call\u001b[0;34m(self, *args, **kwds)\u001b[0m\n\u001b[1;32m    930\u001b[0m \u001b[39mself\u001b[39m\u001b[39m.\u001b[39m_lock\u001b[39m.\u001b[39mrelease()\n\u001b[1;32m    931\u001b[0m \u001b[39m# In this case we have not created variables on the first call. So we can\u001b[39;00m\n\u001b[1;32m    932\u001b[0m \u001b[39m# run the first trace but we should fail if variables are created.\u001b[39;00m\n\u001b[0;32m--> 933\u001b[0m results \u001b[39m=\u001b[39m \u001b[39mself\u001b[39;49m\u001b[39m.\u001b[39;49m_variable_creation_fn(\u001b[39m*\u001b[39;49margs, \u001b[39m*\u001b[39;49m\u001b[39m*\u001b[39;49mkwds)\n\u001b[1;32m    934\u001b[0m \u001b[39mif\u001b[39;00m \u001b[39mself\u001b[39m\u001b[39m.\u001b[39m_created_variables \u001b[39mand\u001b[39;00m \u001b[39mnot\u001b[39;00m ALLOW_DYNAMIC_VARIABLE_CREATION:\n\u001b[1;32m    935\u001b[0m   \u001b[39mraise\u001b[39;00m \u001b[39mValueError\u001b[39;00m(\u001b[39m\"\u001b[39m\u001b[39mCreating variables on a non-first call to a function\u001b[39m\u001b[39m\"\u001b[39m\n\u001b[1;32m    936\u001b[0m                    \u001b[39m\"\u001b[39m\u001b[39m decorated with tf.function.\u001b[39m\u001b[39m\"\u001b[39m)\n",
      "File \u001b[0;32m~/miniconda3/envs/ISPR/lib/python3.10/site-packages/tensorflow/python/eager/polymorphic_function/tracing_compiler.py:143\u001b[0m, in \u001b[0;36mTracingCompiler.__call__\u001b[0;34m(self, *args, **kwargs)\u001b[0m\n\u001b[1;32m    140\u001b[0m \u001b[39mwith\u001b[39;00m \u001b[39mself\u001b[39m\u001b[39m.\u001b[39m_lock:\n\u001b[1;32m    141\u001b[0m   (concrete_function,\n\u001b[1;32m    142\u001b[0m    filtered_flat_args) \u001b[39m=\u001b[39m \u001b[39mself\u001b[39m\u001b[39m.\u001b[39m_maybe_define_function(args, kwargs)\n\u001b[0;32m--> 143\u001b[0m \u001b[39mreturn\u001b[39;00m concrete_function\u001b[39m.\u001b[39;49m_call_flat(\n\u001b[1;32m    144\u001b[0m     filtered_flat_args, captured_inputs\u001b[39m=\u001b[39;49mconcrete_function\u001b[39m.\u001b[39;49mcaptured_inputs)\n",
      "File \u001b[0;32m~/miniconda3/envs/ISPR/lib/python3.10/site-packages/tensorflow/python/eager/polymorphic_function/monomorphic_function.py:1757\u001b[0m, in \u001b[0;36mConcreteFunction._call_flat\u001b[0;34m(self, args, captured_inputs, cancellation_manager)\u001b[0m\n\u001b[1;32m   1753\u001b[0m possible_gradient_type \u001b[39m=\u001b[39m gradients_util\u001b[39m.\u001b[39mPossibleTapeGradientTypes(args)\n\u001b[1;32m   1754\u001b[0m \u001b[39mif\u001b[39;00m (possible_gradient_type \u001b[39m==\u001b[39m gradients_util\u001b[39m.\u001b[39mPOSSIBLE_GRADIENT_TYPES_NONE\n\u001b[1;32m   1755\u001b[0m     \u001b[39mand\u001b[39;00m executing_eagerly):\n\u001b[1;32m   1756\u001b[0m   \u001b[39m# No tape is watching; skip to running the function.\u001b[39;00m\n\u001b[0;32m-> 1757\u001b[0m   \u001b[39mreturn\u001b[39;00m \u001b[39mself\u001b[39m\u001b[39m.\u001b[39m_build_call_outputs(\u001b[39mself\u001b[39;49m\u001b[39m.\u001b[39;49m_inference_function\u001b[39m.\u001b[39;49mcall(\n\u001b[1;32m   1758\u001b[0m       ctx, args, cancellation_manager\u001b[39m=\u001b[39;49mcancellation_manager))\n\u001b[1;32m   1759\u001b[0m forward_backward \u001b[39m=\u001b[39m \u001b[39mself\u001b[39m\u001b[39m.\u001b[39m_select_forward_and_backward_functions(\n\u001b[1;32m   1760\u001b[0m     args,\n\u001b[1;32m   1761\u001b[0m     possible_gradient_type,\n\u001b[1;32m   1762\u001b[0m     executing_eagerly)\n\u001b[1;32m   1763\u001b[0m forward_function, args_with_tangents \u001b[39m=\u001b[39m forward_backward\u001b[39m.\u001b[39mforward()\n",
      "File \u001b[0;32m~/miniconda3/envs/ISPR/lib/python3.10/site-packages/tensorflow/python/eager/polymorphic_function/monomorphic_function.py:381\u001b[0m, in \u001b[0;36m_EagerDefinedFunction.call\u001b[0;34m(self, ctx, args, cancellation_manager)\u001b[0m\n\u001b[1;32m    379\u001b[0m \u001b[39mwith\u001b[39;00m _InterpolateFunctionError(\u001b[39mself\u001b[39m):\n\u001b[1;32m    380\u001b[0m   \u001b[39mif\u001b[39;00m cancellation_manager \u001b[39mis\u001b[39;00m \u001b[39mNone\u001b[39;00m:\n\u001b[0;32m--> 381\u001b[0m     outputs \u001b[39m=\u001b[39m execute\u001b[39m.\u001b[39;49mexecute(\n\u001b[1;32m    382\u001b[0m         \u001b[39mstr\u001b[39;49m(\u001b[39mself\u001b[39;49m\u001b[39m.\u001b[39;49msignature\u001b[39m.\u001b[39;49mname),\n\u001b[1;32m    383\u001b[0m         num_outputs\u001b[39m=\u001b[39;49m\u001b[39mself\u001b[39;49m\u001b[39m.\u001b[39;49m_num_outputs,\n\u001b[1;32m    384\u001b[0m         inputs\u001b[39m=\u001b[39;49margs,\n\u001b[1;32m    385\u001b[0m         attrs\u001b[39m=\u001b[39;49mattrs,\n\u001b[1;32m    386\u001b[0m         ctx\u001b[39m=\u001b[39;49mctx)\n\u001b[1;32m    387\u001b[0m   \u001b[39melse\u001b[39;00m:\n\u001b[1;32m    388\u001b[0m     outputs \u001b[39m=\u001b[39m execute\u001b[39m.\u001b[39mexecute_with_cancellation(\n\u001b[1;32m    389\u001b[0m         \u001b[39mstr\u001b[39m(\u001b[39mself\u001b[39m\u001b[39m.\u001b[39msignature\u001b[39m.\u001b[39mname),\n\u001b[1;32m    390\u001b[0m         num_outputs\u001b[39m=\u001b[39m\u001b[39mself\u001b[39m\u001b[39m.\u001b[39m_num_outputs,\n\u001b[0;32m   (...)\u001b[0m\n\u001b[1;32m    393\u001b[0m         ctx\u001b[39m=\u001b[39mctx,\n\u001b[1;32m    394\u001b[0m         cancellation_manager\u001b[39m=\u001b[39mcancellation_manager)\n",
      "File \u001b[0;32m~/miniconda3/envs/ISPR/lib/python3.10/site-packages/tensorflow/python/eager/execute.py:52\u001b[0m, in \u001b[0;36mquick_execute\u001b[0;34m(op_name, num_outputs, inputs, attrs, ctx, name)\u001b[0m\n\u001b[1;32m     50\u001b[0m \u001b[39mtry\u001b[39;00m:\n\u001b[1;32m     51\u001b[0m   ctx\u001b[39m.\u001b[39mensure_initialized()\n\u001b[0;32m---> 52\u001b[0m   tensors \u001b[39m=\u001b[39m pywrap_tfe\u001b[39m.\u001b[39;49mTFE_Py_Execute(ctx\u001b[39m.\u001b[39;49m_handle, device_name, op_name,\n\u001b[1;32m     53\u001b[0m                                       inputs, attrs, num_outputs)\n\u001b[1;32m     54\u001b[0m \u001b[39mexcept\u001b[39;00m core\u001b[39m.\u001b[39m_NotOkStatusException \u001b[39mas\u001b[39;00m e:\n\u001b[1;32m     55\u001b[0m   \u001b[39mif\u001b[39;00m name \u001b[39mis\u001b[39;00m \u001b[39mnot\u001b[39;00m \u001b[39mNone\u001b[39;00m:\n",
      "\u001b[0;31mKeyboardInterrupt\u001b[0m: "
     ]
    }
   ],
   "source": [
    "from sklearn import metrics\n",
    "for kind in ModelsNames:\n",
    "    # Model \n",
    "    print('Our Param: ', kind)\n",
    "    print('Our Param: Accuracy train set ', kind, metrics.accuracy_score(y_train[kind], ourParamModels[kind].predict(x_train[kind]) >= 0.5 ))\n",
    "    print('Our Param: Accuracy validation set ', kind, metrics.accuracy_score(y_val, ourParamModels[kind].predict(x_val[kind]) >= 0.5 ))\n",
    "    print('\\n')"
   ]
  },
  {
   "cell_type": "code",
   "execution_count": null,
   "metadata": {},
   "outputs": [],
   "source": [
    "import numpy as np\n",
    "xt = {}\n",
    "for kind in ModelsNames:\n",
    "    sub = kind.split('_')[2] == 'True'\n",
    "    typee = '_' + kind.split('_')[1] + '_' + kind.split('_')[2]\n",
    "    xt[kind] = convert(x_test['Balanced'+typee].copy(), kind)\n",
    "    xt[kind] = Normalize(xt[kind], subject=sub)\n",
    "    xt[kind].shape\n",
    "y_test = np.array(y_test)"
   ]
  },
  {
   "cell_type": "code",
   "execution_count": null,
   "metadata": {},
   "outputs": [],
   "source": [
    "from sklearn.metrics import confusion_matrix, ConfusionMatrixDisplay\n",
    "\n",
    "test_predict = {}\n",
    "cm = {}\n",
    "disp = {}\n",
    "for kind in ModelsNames:\n",
    "    print(f'Kind {kind} model...')\n",
    "    test_predict[kind] = (ourParamModels[kind].predict(xt[kind]) >= 0.5).astype('bool')\n",
    "    cm = confusion_matrix(y_test, test_predict[kind])\n",
    "    disp = ConfusionMatrixDisplay(cm)\n",
    "    disp.plot()"
   ]
  },
  {
   "cell_type": "code",
   "execution_count": null,
   "metadata": {},
   "outputs": [],
   "source": [
    "for kind in ModelsNames:\n",
    "    print(kind + ' Accuracy test set ', metrics.accuracy_score(y_test, test_predict[kind]))\n",
    "    print(kind + ' Precision test set ', metrics.precision_score(y_test, test_predict[kind]))\n",
    "    print(kind + ' Recall test set ', metrics.recall_score(y_test, test_predict[kind]))\n",
    "    print(kind + ' F1 score test set ', metrics.f1_score(y_test, test_predict[kind]))\n",
    "    print('\\n')"
   ]
  }
 ],
 "metadata": {
  "kernelspec": {
   "display_name": "ISPR",
   "language": "python",
   "name": "python3"
  },
  "language_info": {
   "codemirror_mode": {
    "name": "ipython",
    "version": 3
   },
   "file_extension": ".py",
   "mimetype": "text/x-python",
   "name": "python",
   "nbconvert_exporter": "python",
   "pygments_lexer": "ipython3",
   "version": "3.10.11"
  },
  "orig_nbformat": 4
 },
 "nbformat": 4,
 "nbformat_minor": 2
}
