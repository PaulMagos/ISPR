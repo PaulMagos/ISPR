{
 "cells": [
  {
   "cell_type": "code",
   "execution_count": 1,
   "metadata": {},
   "outputs": [
    {
     "name": "stdout",
     "output_type": "stream",
     "text": [
      "Loading data from processed file\n"
     ]
    }
   ],
   "source": [
    "import tensorflow as tf\n",
    "import keras as K\n",
    "import myutils \n",
    "%load_ext autoreload\n",
    "%reload_ext autoreload\n",
    "%autoreload 2 \n",
    "\n",
    "allNews = myutils.initDF()\n",
    "\n",
    "# tf.config.list_logical_devices(), tf.config.list_physical_devices()"
   ]
  },
  {
   "attachments": {},
   "cell_type": "markdown",
   "metadata": {},
   "source": [
    "## Create balanced dataset and create train, validation and test sets"
   ]
  },
  {
   "cell_type": "code",
   "execution_count": 2,
   "metadata": {},
   "outputs": [],
   "source": [
    "from sklearn.model_selection import train_test_split \n",
    "# Pop the label column\n",
    "balancedLabels = allNews.pop('label')\n",
    "\n",
    "# Split the data into train, test, and validation sets\n",
    "x_train, x_test, y_train, y_test = train_test_split(allNews, balancedLabels, test_size=0.1, train_size=0.9, shuffle=False)\n",
    "x_train, x_val, y_train, y_val = train_test_split(x_train, y_train, test_size=0.2222, train_size=0.7778, shuffle=True)"
   ]
  },
  {
   "attachments": {},
   "cell_type": "markdown",
   "metadata": {},
   "source": [
    "## Create unbalanced dataset and create train, validation and test sets\n",
    "### Only half fake news"
   ]
  },
  {
   "cell_type": "code",
   "execution_count": 3,
   "metadata": {},
   "outputs": [],
   "source": [
    "# FakeNews label = 1\n",
    "x_trainUF, y_trainUF = myutils.unbalance(x_train, y_train, 1)"
   ]
  },
  {
   "attachments": {},
   "cell_type": "markdown",
   "metadata": {},
   "source": [
    "### Only half real news"
   ]
  },
  {
   "cell_type": "code",
   "execution_count": 4,
   "metadata": {},
   "outputs": [],
   "source": [
    "# RealNews label = 1\n",
    "x_trainUR, y_trainUR = myutils.unbalance(x_train, y_train, 0)"
   ]
  },
  {
   "attachments": {},
   "cell_type": "markdown",
   "metadata": {},
   "source": [
    "## Dict Index"
   ]
  },
  {
   "cell_type": "code",
   "execution_count": 5,
   "metadata": {},
   "outputs": [],
   "source": [
    "from keras.preprocessing.text import Tokenizer\n",
    "import numpy as np\n",
    "\n",
    "vectorizer = Tokenizer(num_words=5000)\n",
    "\n",
    "vectorizer.fit_on_texts(x_train.title)\n",
    "vectorizer.fit_on_texts(x_train.text)\n",
    "vectorizer.fit_on_texts(x_train.subject)\n",
    "\n",
    "vocab_size = len(vectorizer.word_index) + 1\n",
    "\n",
    "def text_to_sequence(text):\n",
    "    res = np.array([vectorizer.word_index[word] for word in text.split() if word in vectorizer.word_index])\n",
    "    return res.sum()\n",
    "    \n",
    "def sequence_to_text(sequence):\n",
    "    return ' '.join([vectorizer.word_index[i] for i in sequence])"
   ]
  },
  {
   "attachments": {},
   "cell_type": "markdown",
   "metadata": {},
   "source": [
    "## Embedding"
   ]
  },
  {
   "cell_type": "code",
   "execution_count": 6,
   "metadata": {},
   "outputs": [],
   "source": [
    "import numpy as np\n",
    "embedding_dict = {}\n",
    "with open(\"./embeddings/glove.6B.100d.txt\") as f:\n",
    "    for line in f:\n",
    "        words, coefficients = line.split(maxsplit=1)\n",
    "        coefficients = np.fromstring(coefficients, \"f\", sep=\" \")\n",
    "        embedding_dict[words] = coefficients"
   ]
  },
  {
   "attachments": {},
   "cell_type": "markdown",
   "metadata": {},
   "source": [
    "### Embedding Matrix"
   ]
  },
  {
   "cell_type": "code",
   "execution_count": 7,
   "metadata": {},
   "outputs": [
    {
     "data": {
      "text/plain": [
       "(126421, 100)"
      ]
     },
     "execution_count": 7,
     "metadata": {},
     "output_type": "execute_result"
    }
   ],
   "source": [
    "import numpy as np\n",
    "embedding_dim = 100\n",
    "vocab_size = len(vectorizer.word_index) + 2\n",
    "\n",
    "embedding_matrix = np.zeros((vocab_size, embedding_dim))\n",
    "for word, i in vectorizer.word_index.items():\n",
    "    embedding_vector = vectorizer.word_index.get(word)\n",
    "    if embedding_vector is not None:\n",
    "        embedding_matrix[i] = embedding_vector\n",
    "        \n",
    "embedding_matrix.shape"
   ]
  },
  {
   "attachments": {},
   "cell_type": "markdown",
   "metadata": {},
   "source": [
    "# Tensorflow embedding layer"
   ]
  },
  {
   "cell_type": "code",
   "execution_count": 8,
   "metadata": {},
   "outputs": [],
   "source": [
    "embedding_layer = K.layers.Embedding(vocab_size, embedding_dim, embeddings_initializer= K.initializers.Constant(embedding_matrix), trainable=False)"
   ]
  },
  {
   "attachments": {},
   "cell_type": "markdown",
   "metadata": {},
   "source": [
    "# Tensorflow CNN model"
   ]
  },
  {
   "cell_type": "code",
   "execution_count": 9,
   "metadata": {},
   "outputs": [
    {
     "name": "stdout",
     "output_type": "stream",
     "text": [
      "Metal device set to: Apple M1 Pro\n",
      "\n",
      "systemMemory: 32.00 GB\n",
      "maxCacheSize: 10.67 GB\n",
      "\n",
      "Model: \"model\"\n",
      "_________________________________________________________________\n",
      " Layer (type)                Output Shape              Param #   \n",
      "=================================================================\n",
      " input_1 (InputLayer)        [(None, None)]            0         \n",
      "                                                                 \n",
      " embedding (Embedding)       (None, None, 100)         12642100  \n",
      "                                                                 \n",
      " conv1d (Conv1D)             (None, None, 128)         12928     \n",
      "                                                                 \n",
      " max_pooling1d (MaxPooling1D  (None, None, 128)        0         \n",
      " )                                                               \n",
      "                                                                 \n",
      " conv1d_1 (Conv1D)           (None, None, 128)         16512     \n",
      "                                                                 \n",
      " max_pooling1d_1 (MaxPooling  (None, None, 128)        0         \n",
      " 1D)                                                             \n",
      "                                                                 \n",
      " conv1d_2 (Conv1D)           (None, None, 128)         16512     \n",
      "                                                                 \n",
      " max_pooling1d_2 (MaxPooling  (None, None, 128)        0         \n",
      " 1D)                                                             \n",
      "                                                                 \n",
      " conv1d_3 (Conv1D)           (None, None, 128)         16512     \n",
      "                                                                 \n",
      " global_max_pooling1d (Globa  (None, 128)              0         \n",
      " lMaxPooling1D)                                                  \n",
      "                                                                 \n",
      " dense (Dense)               (None, 128)               16512     \n",
      "                                                                 \n",
      " dropout (Dropout)           (None, 128)               0         \n",
      "                                                                 \n",
      " dense_1 (Dense)             (None, 1)                 129       \n",
      "                                                                 \n",
      "=================================================================\n",
      "Total params: 12,721,205\n",
      "Trainable params: 79,105\n",
      "Non-trainable params: 12,642,100\n",
      "_________________________________________________________________\n"
     ]
    }
   ],
   "source": [
    "input = K.layers.Input(shape=(None, ), dtype='int64')\n",
    "embedded_input = embedding_layer(input)\n",
    "x = K.layers.Conv1D(128, 1, activation='selu')(embedded_input)\n",
    "x = K.layers.MaxPooling1D(1)(x)\n",
    "x = K.layers.Conv1D(128, 1, activation='selu')(x)\n",
    "x = K.layers.MaxPooling1D(1)(x) \n",
    "x = K.layers.Conv1D(128, 1, activation='relu')(x)\n",
    "x = K.layers.MaxPooling1D(1)(x) \n",
    "x = K.layers.Conv1D(128, 1, activation='relu')(x)\n",
    "x = K.layers.GlobalMaxPooling1D()(x)\n",
    "x = K.layers.Dense(128, activation='relu')(x)\n",
    "x = K.layers.Dropout(0.5)(x)\n",
    "predictions = K.layers.Dense(1, activation='sigmoid')(x)\n",
    "model = K.models.Model(input, predictions)\n",
    "model.summary()"
   ]
  },
  {
   "cell_type": "code",
   "execution_count": 10,
   "metadata": {},
   "outputs": [],
   "source": [
    "from keras_preprocessing.sequence import pad_sequences\n",
    "\n",
    "def adapt(df, columns = ['title', 'text', 'subject']):\n",
    "    for column in columns:\n",
    "        df[column] = pad_sequences(vectorizer.texts_to_sequences(df[column]), maxlen=1000, padding='post').tolist()\n",
    "    return df\n",
    "\n",
    "x_train = adapt(x_train)\n",
    "x_val = adapt(x_val)\n",
    "\n",
    "y_train = np.array(y_train)\n",
    "y_val = np.array(y_val)"
   ]
  },
  {
   "cell_type": "code",
   "execution_count": 11,
   "metadata": {},
   "outputs": [
    {
     "name": "stdout",
     "output_type": "stream",
     "text": [
      "(31429,) (8979,) (31429,) (8979,)\n",
      "11685    [1475, 70, 27, 368, 634, 45, 47, 2051, 9, 222,...\n",
      "31157    [107, 70, 33, 8, 35, 71, 12, 367, 257, 2, 1, 2...\n",
      "26712    [143, 128, 12, 364, 98, 3, 1, 413, 143, 128, 1...\n",
      "29134    [62, 226, 1034, 38, 1, 2515, 3, 1, 356, 33, 8,...\n",
      "25036    [1011, 2256, 70, 138, 1344, 9, 228, 564, 197, ...\n",
      "                               ...                        \n",
      "840      [107, 70, 1, 88, 78, 39, 23, 1315, 4, 147, 365...\n",
      "23653    [1475, 70, 6, 1475, 359, 356, 261, 3, 4, 2974,...\n",
      "25813    [70, 4, 133, 2874, 4, 1051, 85, 259, 197, 1808...\n",
      "29806    [15, 8, 68, 913, 81, 215, 733, 71, 12, 1, 446,...\n",
      "17866    [70, 1, 3159, 1926, 3384, 1095, 30, 4660, 2241...\n",
      "Name: text, Length: 31429, dtype: object\n"
     ]
    }
   ],
   "source": [
    "print(x_train.text.shape, x_val.text.shape, y_train.shape, y_val.shape)\n",
    "print(x_train.text)"
   ]
  },
  {
   "cell_type": "code",
   "execution_count": 12,
   "metadata": {},
   "outputs": [
    {
     "ename": "ValueError",
     "evalue": "Failed to convert a NumPy array to a Tensor (Unsupported object type list).",
     "output_type": "error",
     "traceback": [
      "\u001b[0;31m---------------------------------------------------------------------------\u001b[0m",
      "\u001b[0;31mValueError\u001b[0m                                Traceback (most recent call last)",
      "Cell \u001b[0;32mIn[12], line 15\u001b[0m\n\u001b[1;32m      1\u001b[0m early_stopping \u001b[39m=\u001b[39m K\u001b[39m.\u001b[39mcallbacks\u001b[39m.\u001b[39mEarlyStopping(\n\u001b[1;32m      2\u001b[0m     monitor\u001b[39m=\u001b[39m\u001b[39m'\u001b[39m\u001b[39mval_accuracy\u001b[39m\u001b[39m'\u001b[39m,\n\u001b[1;32m      3\u001b[0m     mode\u001b[39m=\u001b[39m\u001b[39m'\u001b[39m\u001b[39mmax\u001b[39m\u001b[39m'\u001b[39m,\n\u001b[0;32m   (...)\u001b[0m\n\u001b[1;32m      6\u001b[0m     restore_best_weights\u001b[39m=\u001b[39m\u001b[39mTrue\u001b[39;00m\n\u001b[1;32m      7\u001b[0m )\n\u001b[1;32m      9\u001b[0m model\u001b[39m.\u001b[39mcompile(\n\u001b[1;32m     10\u001b[0m     optimizer\u001b[39m=\u001b[39mK\u001b[39m.\u001b[39moptimizers\u001b[39m.\u001b[39mAdam(learning_rate\u001b[39m=\u001b[39m\u001b[39m0.01\u001b[39m),\n\u001b[1;32m     11\u001b[0m     \u001b[39m# optimizer=K.optimizers.Adam(learning_rate=0.001), \u001b[39;00m\n\u001b[1;32m     12\u001b[0m     loss\u001b[39m=\u001b[39mK\u001b[39m.\u001b[39mlosses\u001b[39m.\u001b[39mBinaryCrossentropy(),\n\u001b[1;32m     13\u001b[0m     metrics\u001b[39m=\u001b[39m[\u001b[39m'\u001b[39m\u001b[39maccuracy\u001b[39m\u001b[39m'\u001b[39m]\n\u001b[1;32m     14\u001b[0m )\n\u001b[0;32m---> 15\u001b[0m hist \u001b[39m=\u001b[39m model\u001b[39m.\u001b[39;49mfit(x_train\u001b[39m.\u001b[39;49mtext, y_train, \n\u001b[1;32m     16\u001b[0m     batch_size\u001b[39m=\u001b[39;49m\u001b[39m10\u001b[39;49m, \n\u001b[1;32m     17\u001b[0m     epochs\u001b[39m=\u001b[39;49m\u001b[39m20\u001b[39;49m, \n\u001b[1;32m     18\u001b[0m     validation_data\u001b[39m=\u001b[39;49m(x_val\u001b[39m.\u001b[39;49mtext, y_val), \n\u001b[1;32m     19\u001b[0m     \u001b[39m# callbacks=[early_stopping]\u001b[39;49;00m\n\u001b[1;32m     20\u001b[0m )\n",
      "File \u001b[0;32m~/miniconda3/envs/ISPR/lib/python3.10/site-packages/keras/utils/traceback_utils.py:70\u001b[0m, in \u001b[0;36mfilter_traceback.<locals>.error_handler\u001b[0;34m(*args, **kwargs)\u001b[0m\n\u001b[1;32m     67\u001b[0m     filtered_tb \u001b[39m=\u001b[39m _process_traceback_frames(e\u001b[39m.\u001b[39m__traceback__)\n\u001b[1;32m     68\u001b[0m     \u001b[39m# To get the full stack trace, call:\u001b[39;00m\n\u001b[1;32m     69\u001b[0m     \u001b[39m# `tf.debugging.disable_traceback_filtering()`\u001b[39;00m\n\u001b[0;32m---> 70\u001b[0m     \u001b[39mraise\u001b[39;00m e\u001b[39m.\u001b[39mwith_traceback(filtered_tb) \u001b[39mfrom\u001b[39;00m \u001b[39mNone\u001b[39m\n\u001b[1;32m     71\u001b[0m \u001b[39mfinally\u001b[39;00m:\n\u001b[1;32m     72\u001b[0m     \u001b[39mdel\u001b[39;00m filtered_tb\n",
      "File \u001b[0;32m~/miniconda3/envs/ISPR/lib/python3.10/site-packages/tensorflow/python/framework/constant_op.py:103\u001b[0m, in \u001b[0;36mconvert_to_eager_tensor\u001b[0;34m(value, ctx, dtype)\u001b[0m\n\u001b[1;32m    101\u001b[0m     dtype \u001b[39m=\u001b[39m dtypes\u001b[39m.\u001b[39mas_dtype(dtype)\u001b[39m.\u001b[39mas_datatype_enum\n\u001b[1;32m    102\u001b[0m ctx\u001b[39m.\u001b[39mensure_initialized()\n\u001b[0;32m--> 103\u001b[0m \u001b[39mreturn\u001b[39;00m ops\u001b[39m.\u001b[39;49mEagerTensor(value, ctx\u001b[39m.\u001b[39;49mdevice_name, dtype)\n",
      "\u001b[0;31mValueError\u001b[0m: Failed to convert a NumPy array to a Tensor (Unsupported object type list)."
     ]
    }
   ],
   "source": [
    "early_stopping = K.callbacks.EarlyStopping(\n",
    "    monitor='val_accuracy',\n",
    "    mode='max',\n",
    "    patience=5,\n",
    "    min_delta=0.0005,\n",
    "    restore_best_weights=True\n",
    ")\n",
    "\n",
    "model.compile(\n",
    "    optimizer=K.optimizers.Adam(learning_rate=0.01),\n",
    "    # optimizer=K.optimizers.Adam(learning_rate=0.001), \n",
    "    loss=K.losses.BinaryCrossentropy(),\n",
    "    metrics=['accuracy']\n",
    ")\n",
    "hist = model.fit(x_train.text, y_train, \n",
    "    batch_size=10, \n",
    "    epochs=20, \n",
    "    validation_data=(x_val.text, y_val), \n",
    "    # callbacks=[early_stopping]\n",
    ")"
   ]
  },
  {
   "cell_type": "code",
   "execution_count": null,
   "metadata": {},
   "outputs": [
    {
     "name": "stdout",
     "output_type": "stream",
     "text": [
      "Value of the tensor = \n",
      " 17334     10\n",
      "18054     71\n",
      "17165    109\n",
      "3063      76\n",
      "36388    741\n",
      "        ... \n",
      "12864    557\n",
      "14694     27\n",
      "34440     26\n",
      "22425    163\n",
      "20694    554\n",
      "Name: text, Length: 31429, dtype: int32\n",
      "Number of dimensions = 1\n",
      "Tensor's shape = (31429,)\n"
     ]
    }
   ],
   "source": [
    "tensor = x_train.text\n",
    "print(f\"Value of the tensor = \\n {tensor}\")\n",
    "print(f\"Number of dimensions = {len(tensor.shape)}\")\n",
    "print(f\"Tensor's shape = {tensor.shape}\")"
   ]
  },
  {
   "cell_type": "code",
   "execution_count": null,
   "metadata": {},
   "outputs": [
    {
     "data": {
      "text/plain": [
       "<matplotlib.legend.Legend at 0x2f1c13a30>"
      ]
     },
     "execution_count": 14,
     "metadata": {},
     "output_type": "execute_result"
    },
    {
     "data": {
      "image/png": "[encoded data removed]",
      "text/plain": [
       "<Figure size 640x480 with 1 Axes>"
      ]
     },
     "metadata": {},
     "output_type": "display_data"
    }
   ],
   "source": [
    "import matplotlib.pyplot as plt\n",
    "\n",
    "plt.plot(hist.history['accuracy'], label='accuracy')\n",
    "plt.plot(hist.history['val_accuracy'], label = 'val_accuracy')\n",
    "plt.xlabel('Epoch')\n",
    "plt.ylabel('Accuracy')\n",
    "plt.ylim([0.5, 1])\n",
    "plt.legend(loc='lower right')"
   ]
  }
 ],
 "metadata": {
  "kernelspec": {
   "display_name": "ISPR",
   "language": "python",
   "name": "python3"
  },
  "language_info": {
   "codemirror_mode": {
    "name": "ipython",
    "version": 3
   },
   "file_extension": ".py",
   "mimetype": "text/x-python",
   "name": "python",
   "nbconvert_exporter": "python",
   "pygments_lexer": "ipython3",
   "version": "3.10.11"
  },
  "orig_nbformat": 4
 },
 "nbformat": 4,
 "nbformat_minor": 2
}
